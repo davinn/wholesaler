{
 "cells": [
  {
   "cell_type": "code",
   "execution_count": null,
   "metadata": {},
   "outputs": [],
   "source": [
    "import pandas as pd\n",
    "import mysql.connector\n",
    "from sqlalchemy import create_engine\n",
    "import os\n",
    "import time"
   ]
  },
  {
   "cell_type": "code",
   "execution_count": null,
   "metadata": {},
   "outputs": [],
   "source": [
    "database_configuration = open(os.getcwd()+r'\\db.cfg').read().split(' ')\n",
    "engine = create_engine('mysql+mysqlconnector://{}:{}@{}:{}/{}'.format(*database_configuration))"
   ]
  },
  {
   "cell_type": "code",
   "execution_count": null,
   "metadata": {},
   "outputs": [],
   "source": [
    "articulos_query = open(os.getcwd()+r'\\articulos.sql').read()\n",
    "df_articulos = pd.read_sql(articulos_query, engine)\n",
    "df_articulos.info()"
   ]
  },
  {
   "cell_type": "code",
   "execution_count": null,
   "metadata": {},
   "outputs": [],
   "source": [
    "# Agrupamos por proveedor.\n",
    "df_grouped_ref = df_articulos[['AM_COD_PROVEEDOR','PR_NOMBRE_PROVEEDOR','AM_PN']]\\\n",
    "                .groupby(['AM_COD_PROVEEDOR','PR_NOMBRE_PROVEEDOR'],as_index=False)\\\n",
    "                .agg('count')\n",
    "# Las referencias a 1?????, fallos en importacion.\n",
    "df_grouped_ref   "
   ]
  },
  {
   "cell_type": "code",
   "execution_count": null,
   "metadata": {},
   "outputs": [],
   "source": [
    "# Agrupamos por proveedor. Aquellos que tengan stock.\n",
    "df_grouped_stock = df_articulos[df_articulos['AM_STOCK']>0][['AM_COD_PROVEEDOR','PR_NOMBRE_PROVEEDOR','AM_PN']]\\\n",
    "            .groupby(['AM_COD_PROVEEDOR','PR_NOMBRE_PROVEEDOR'],as_index=False)\\\n",
    "            .agg('count')\n",
    "df_grouped_ref"
   ]
  },
  {
   "cell_type": "code",
   "execution_count": null,
   "metadata": {},
   "outputs": [],
   "source": [
    "df_no_importados = df_grouped_ref[df_grouped_ref['AM_PN']==1]\n",
    "df_no_importados = df_no_importados.drop(columns=['AM_PN'])\n",
    "df_no_importados.to_csv(os.getcwd()+r'\\no_importados_{}.csv'.format(time.strftime(\"%d-%m-%y\")), sep=';', decimal=',',index=False)\n",
    "df_no_importados"
   ]
  },
  {
   "cell_type": "code",
   "execution_count": null,
   "metadata": {},
   "outputs": [],
   "source": [
    "# Cruzamos las tablas.\n",
    "df_referencia_stock = pd.merge(df_grouped_ref, df_grouped_stock, on=['AM_COD_PROVEEDOR'])\n",
    "df_referencia_stock = df_referencia_stock.drop(columns=['PR_NOMBRE_PROVEEDOR_y'])\n",
    "df_referencia_stock.columns = ['CODIGO', 'PROVEEDOR', 'REFERENCIAS', 'CON STOCK']\n",
    "df_referencia_stock_sort = df_referencia_stock.sort_values (['REFERENCIAS'], ascending=False)\n",
    "df_referencia_stock_sort"
   ]
  },
  {
   "cell_type": "code",
   "execution_count": null,
   "metadata": {},
   "outputs": [],
   "source": [
    "df = df_referencia_stock\n",
    "df['PORCENTAJE CON STOCK'] = round((df['CON STOCK']*100)/df['REFERENCIAS'],2)\n",
    "df = df.sort_values (['PORCENTAJE CON STOCK'], ascending=False)\n",
    "df.to_csv(os.getcwd()+r'\\proveedor_con_stock_{}.csv'.format(time.strftime(\"%d-%m-%y\")), sep=';', decimal=',',index=False)\n",
    "df"
   ]
  },
  {
   "cell_type": "code",
   "execution_count": null,
   "metadata": {},
   "outputs": [],
   "source": [
    "# Porcentaje medio con stock\n",
    "df['PORCENTAJE CON STOCK'].mean()"
   ]
  },
  {
   "cell_type": "code",
   "execution_count": null,
   "metadata": {},
   "outputs": [],
   "source": [
    "# Porcentaje medio con stock sin INGRAM MICRO\n",
    "df = df[df.CODIGO != '000048']\n",
    "df['PORCENTAJE CON STOCK'].mean()"
   ]
  },
  {
   "cell_type": "code",
   "execution_count": null,
   "metadata": {},
   "outputs": [],
   "source": [
    "df_grouped_fab = df_articulos[['AM_COD_PROVEEDOR','PR_NOMBRE_PROVEEDOR','AM_FABRICANTE','f_nombre_fabricante','AM_PN']]\\\n",
    "                .groupby(['AM_FABRICANTE','f_nombre_fabricante','AM_COD_PROVEEDOR','PR_NOMBRE_PROVEEDOR'],as_index=False)\\\n",
    "                .agg('count')\n",
    "df_grouped_fab = df_grouped_fab.sort_values(['AM_FABRICANTE','AM_PN'], ascending=[True, False])\n",
    "df_grouped_fab"
   ]
  },
  {
   "cell_type": "code",
   "execution_count": null,
   "metadata": {},
   "outputs": [],
   "source": [
    "df_grouped_fab_stock = df_articulos[df_articulos['AM_STOCK']>0]\\\n",
    "                [['AM_COD_PROVEEDOR','PR_NOMBRE_PROVEEDOR','AM_FABRICANTE','f_nombre_fabricante','AM_PN']]\\\n",
    "                .groupby(['AM_FABRICANTE','f_nombre_fabricante','AM_COD_PROVEEDOR','PR_NOMBRE_PROVEEDOR'],as_index=False)\\\n",
    "                .agg('count')\n",
    "df_grouped_fab_stock = df_grouped_fab_stock.sort_values(['AM_FABRICANTE','AM_PN'], ascending=[True, False])\n",
    "df_grouped_fab_stock"
   ]
  },
  {
   "cell_type": "code",
   "execution_count": null,
   "metadata": {},
   "outputs": [],
   "source": [
    "df_referencia_stock = pd.merge(df_grouped_fab, df_grouped_fab_stock, on=['AM_FABRICANTE','AM_COD_PROVEEDOR'])\n",
    "df_referencia_stock = df_referencia_stock.drop(columns=['f_nombre_fabricante_y','PR_NOMBRE_PROVEEDOR_y'])\n",
    "df_referencia_stock.columns = ['CODIGO_FA','FABRICANTE','CODIGO_PR','PROVEEDOR','REFERENCIAS','CON STOCK']\n",
    "df_referencia_stock"
   ]
  },
  {
   "cell_type": "code",
   "execution_count": null,
   "metadata": {},
   "outputs": [],
   "source": [
    "df = df_referencia_stock\n",
    "df['PORCENTAJE CON STOCK'] = round((df['CON STOCK']*100)/df['REFERENCIAS'],2)\n",
    "df = df.sort_values (['CODIGO_FA','PORCENTAJE CON STOCK'], ascending=[True, False])\n",
    "df.to_csv(os.getcwd()+r'\\fabricantes_proveedor_con_stock_{}.csv'.format(time.strftime(\"%d-%m-%y\")),\\\n",
    "            sep=';',decimal=',',index=False)\n",
    "df"
   ]
  }
 ],
 "metadata": {
  "kernelspec": {
   "display_name": "Python 3",
   "language": "python",
   "name": "python3"
  },
  "language_info": {
   "codemirror_mode": {
    "name": "ipython",
    "version": 3
   },
   "file_extension": ".py",
   "mimetype": "text/x-python",
   "name": "python",
   "nbconvert_exporter": "python",
   "pygments_lexer": "ipython3",
   "version": "3.6.4"
  }
 },
 "nbformat": 4,
 "nbformat_minor": 2
}
