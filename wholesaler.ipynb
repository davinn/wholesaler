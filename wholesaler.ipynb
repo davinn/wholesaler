{
 "cells": [
  {
   "cell_type": "code",
   "execution_count": null,
   "metadata": {},
   "outputs": [],
   "source": [
    "import pandas as pd\n",
    "import mysql.connector\n",
    "from sqlalchemy import create_engine\n",
    "import os"
   ]
  },
  {
   "cell_type": "code",
   "execution_count": null,
   "metadata": {},
   "outputs": [],
   "source": [
    "database_configuration = open(os.getcwd()+r'\\db.cfg').read().split(' ')\n",
    "engine = create_engine('mysql+mysqlconnector://{}:{}@{}:{}/{}'.format(*database_configuration))"
   ]
  },
  {
   "cell_type": "code",
   "execution_count": null,
   "metadata": {},
   "outputs": [],
   "source": [
    "articulos_query = open(os.getcwd()+r'\\articulos.sql').read()\n",
    "df_articulos = pd.read_sql(articulos_query, engine)\n",
    "df_articulos.info()"
   ]
  },
  {
   "cell_type": "code",
   "execution_count": null,
   "metadata": {},
   "outputs": [],
   "source": [
    "# Group by PROVEEDOR\n",
    "print(df_articulos[['AM_COD_PROVEEDOR','PR_NOMBRE_PROVEEDOR','AM_PN']]\n",
    "      .groupby(['AM_COD_PROVEEDOR','PR_NOMBRE_PROVEEDOR'])\n",
    "      .agg('count'))"
   ]
  }
 ],
 "metadata": {
  "kernelspec": {
   "display_name": "Python 3",
   "language": "python",
   "name": "python3"
  },
  "language_info": {
   "codemirror_mode": {
    "name": "ipython",
    "version": 3
   },
   "file_extension": ".py",
   "mimetype": "text/x-python",
   "name": "python",
   "nbconvert_exporter": "python",
   "pygments_lexer": "ipython3",
   "version": "3.6.4"
  }
 },
 "nbformat": 4,
 "nbformat_minor": 2
}
