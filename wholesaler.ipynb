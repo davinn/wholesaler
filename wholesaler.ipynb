{
 "cells": [
  {
   "cell_type": "code",
   "execution_count": null,
   "metadata": {},
   "outputs": [],
   "source": [
    "import pandas as pd\n",
    "import mysql.connector\n",
    "from sqlalchemy import create_engine\n",
    "import os"
   ]
  },
  {
   "cell_type": "code",
   "execution_count": null,
   "metadata": {},
   "outputs": [],
   "source": [
    "database_configuration = open(os.getcwd()+r'\\db.cfg').read().split(' ')\n",
    "engine = create_engine('mysql+mysqlconnector://{}:{}@{}:{}/{}'.format(*database_configuration))"
   ]
  },
  {
   "cell_type": "code",
   "execution_count": null,
   "metadata": {},
   "outputs": [],
   "source": [
    "articulos_query = open(os.getcwd()+r'\\articulos.sql').read()\n",
    "df_articulos = pd.read_sql(articulos_query, engine)\n",
    "df_articulos.info()"
   ]
  },
  {
   "cell_type": "code",
   "execution_count": null,
   "metadata": {},
   "outputs": [],
   "source": [
    "# Agrupamos por proveedor.\n",
    "df_grouped_ref = df_articulos[['AM_COD_PROVEEDOR','PR_NOMBRE_PROVEEDOR','AM_PN']]\\\n",
    "                .groupby(['AM_COD_PROVEEDOR','PR_NOMBRE_PROVEEDOR'],as_index=False)\\\n",
    "                .agg('count')\n",
    "# Las referencias a 1?????, fallos en importacion.\n",
    "df_grouped_ref   "
   ]
  },
  {
   "cell_type": "code",
   "execution_count": null,
   "metadata": {},
   "outputs": [],
   "source": [
    "# Agrupamos por proveedor. Aquellos que tengan stock.\n",
    "df_grouped_stock = df_articulos[df_articulos['AM_STOCK']>0][['AM_COD_PROVEEDOR','PR_NOMBRE_PROVEEDOR','AM_PN']]\\\n",
    "            .groupby(['AM_COD_PROVEEDOR','PR_NOMBRE_PROVEEDOR'],as_index=False)\\\n",
    "            .agg('count')\n",
    "df_grouped_ref"
   ]
  },
  {
   "cell_type": "code",
   "execution_count": null,
   "metadata": {},
   "outputs": [],
   "source": [
    "# Cruzamos las tablas.\n",
    "df_referencia_stock = pd.merge(df_grouped_ref, df_grouped_stock, on=['AM_COD_PROVEEDOR'])\n",
    "df_referencia_stock = df_referencia_stock.drop(columns=['PR_NOMBRE_PROVEEDOR_y'])\n",
    "df_referencia_stock.columns = ['CODIGO', 'PROVEEDOR', 'REFERENCIAS', 'CON STOCK']\n",
    "df_referencia_stock.sort_values (['REFERENCIAS'], ascending=False)"
   ]
  },
  {
   "cell_type": "code",
   "execution_count": null,
   "metadata": {},
   "outputs": [],
   "source": [
    "df = df_referencia_stock\n",
    "df['PORCENTAJE CON STOCK'] = (df['CON STOCK']*100)/df['REFERENCIAS']\n",
    "df.sort_values (['PORCENTAJE CON STOCK'], ascending=False)"
   ]
  },
  {
   "cell_type": "code",
   "execution_count": null,
   "metadata": {},
   "outputs": [],
   "source": [
    "# Porcentaje medio con stock\n",
    "df['PORCENTAJE CON STOCK'].mean()"
   ]
  },
  {
   "cell_type": "code",
   "execution_count": null,
   "metadata": {},
   "outputs": [],
   "source": [
    "# Porcentaje medio con stock sin INGRAM MICRO\n",
    "df = df[df.CODIGO != '000048']\n",
    "df['PORCENTAJE CON STOCK'].mean()"
   ]
  },
  {
   "cell_type": "code",
   "execution_count": null,
   "metadata": {},
   "outputs": [],
   "source": []
  }
 ],
 "metadata": {
  "kernelspec": {
   "display_name": "Python 3",
   "language": "python",
   "name": "python3"
  },
  "language_info": {
   "codemirror_mode": {
    "name": "ipython",
    "version": 3
   },
   "file_extension": ".py",
   "mimetype": "text/x-python",
   "name": "python",
   "nbconvert_exporter": "python",
   "pygments_lexer": "ipython3",
   "version": "3.6.4"
  }
 },
 "nbformat": 4,
 "nbformat_minor": 2
}
